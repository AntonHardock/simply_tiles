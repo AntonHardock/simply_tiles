{
 "cells": [
  {
   "cell_type": "markdown",
   "metadata": {},
   "source": [
    "# Setup"
   ]
  },
  {
   "cell_type": "code",
   "execution_count": 1,
   "metadata": {},
   "outputs": [],
   "source": [
    "from IPython.core.interactiveshell import InteractiveShell\n",
    "InteractiveShell.ast_node_interactivity = \"all\"\n",
    "\n",
    "%load_ext autoreload\n",
    "%autoreload 2\n"
   ]
  },
  {
   "cell_type": "code",
   "execution_count": 2,
   "metadata": {},
   "outputs": [],
   "source": [
    "from simply_tiles.vector_tiler import VectorTiler"
   ]
  },
  {
   "cell_type": "markdown",
   "metadata": {},
   "source": [
    "# TESTS"
   ]
  },
  {
   "cell_type": "code",
   "execution_count": 3,
   "metadata": {},
   "outputs": [
    {
     "name": "stdout",
     "output_type": "stream",
     "text": [
      "BBOX is set to user defined bounds and reprojected if required.\n"
     ]
    },
    {
     "data": {
      "text/plain": [
       "{'xmin': 1113000,\n",
       " 'ymin': 7080000,\n",
       " 'xmax': 1183000,\n",
       " 'ymax': 7100000,\n",
       " 'srid': 3857}"
      ]
     },
     "execution_count": 3,
     "metadata": {},
     "output_type": "execute_result"
    },
    {
     "data": {
      "text/plain": [
       "{'xmin': 1113000.0,\n",
       " 'ymin': 7080000.0,\n",
       " 'xmax': 1183000.0,\n",
       " 'ymax': 7100000.0,\n",
       " 'srid': '3857'}"
      ]
     },
     "execution_count": 3,
     "metadata": {},
     "output_type": "execute_result"
    }
   ],
   "source": [
    "tiler = VectorTiler(config=\"my_data/tilecache_config_userbounds.json\")\n",
    "\n",
    "tiler.user_bounds\n",
    "tiler.bbox"
   ]
  },
  {
   "cell_type": "markdown",
   "metadata": {},
   "source": [
    "# Create example vector tile cache in WebMercatorQuad"
   ]
  },
  {
   "cell_type": "code",
   "execution_count": 16,
   "metadata": {},
   "outputs": [
    {
     "name": "stdout",
     "output_type": "stream",
     "text": [
      "BBOX is auto-detected across all geoms of all specified layers.\n"
     ]
    }
   ],
   "source": [
    "# input parameters\n",
    "tileset_name = \"tilecache_tms_integrated\"\n",
    "tileset_path = \"C:/Users/Notna/Desktop/test_caches\"\n",
    "config_path = \"my_data/tilecache_config.json\"\n",
    "\n",
    "# instantiate tiler object\n",
    "tiler = VectorTiler(config_path)"
   ]
  },
  {
   "cell_type": "code",
   "execution_count": 17,
   "metadata": {},
   "outputs": [
    {
     "name": "stderr",
     "output_type": "stream",
     "text": [
      "100%|██████████| 1/1 [00:00<00:00, 71.44it/s]\n",
      "100%|██████████| 1/1 [00:00<00:00, 99.97it/s]\n",
      "100%|██████████| 1/1 [00:00<00:00, 99.90it/s]\n",
      "100%|██████████| 1/1 [00:00<00:00, 71.44it/s]\n",
      "100%|██████████| 1/1 [00:00<00:00, 52.62it/s]\n",
      "100%|██████████| 1/1 [00:00<00:00, 40.00it/s]\n",
      "100%|██████████| 1/1 [00:00<00:00, 26.32it/s]\n",
      "  0%|          | 0/2 [00:00<?, ?it/s]"
     ]
    },
    {
     "name": "stdout",
     "output_type": "stream",
     "text": [
      "Created temp union table from all specified tables\n",
      "Geoms deviating from specified pbf_srid are automatically transformed\n",
      "Generating tiles for zoom level 0\n",
      "Generating tiles for zoom level 1\n",
      "Generating tiles for zoom level 2\n",
      "Generating tiles for zoom level 3\n",
      "Generating tiles for zoom level 4\n",
      "Generating tiles for zoom level 5\n",
      "Generating tiles for zoom level 6\n",
      "Generating tiles for zoom level 7\n"
     ]
    },
    {
     "name": "stderr",
     "output_type": "stream",
     "text": [
      "100%|██████████| 2/2 [00:00<00:00, 25.64it/s]\n",
      "100%|██████████| 3/3 [00:00<00:00, 21.28it/s]\n",
      "  0%|          | 0/10 [00:00<?, ?it/s]"
     ]
    },
    {
     "name": "stdout",
     "output_type": "stream",
     "text": [
      "Generating tiles for zoom level 8\n",
      "Generating tiles for zoom level 9\n"
     ]
    },
    {
     "name": "stderr",
     "output_type": "stream",
     "text": [
      "100%|██████████| 10/10 [00:00<00:00, 47.17it/s]\n",
      " 31%|███▏      | 10/32 [00:00<00:00, 94.34it/s]"
     ]
    },
    {
     "name": "stdout",
     "output_type": "stream",
     "text": [
      "Generating tiles for zoom level 10\n"
     ]
    },
    {
     "name": "stderr",
     "output_type": "stream",
     "text": [
      "100%|██████████| 32/32 [00:00<00:00, 48.64it/s]\n",
      "  9%|▉         | 9/98 [00:00<00:01, 81.82it/s]"
     ]
    },
    {
     "name": "stdout",
     "output_type": "stream",
     "text": [
      "Generating tiles for zoom level 11\n"
     ]
    },
    {
     "name": "stderr",
     "output_type": "stream",
     "text": [
      "100%|██████████| 98/98 [00:01<00:00, 93.78it/s]\n",
      "  4%|▎         | 11/312 [00:00<00:02, 100.92it/s]"
     ]
    },
    {
     "name": "stdout",
     "output_type": "stream",
     "text": [
      "Generating tiles for zoom level 12\n"
     ]
    },
    {
     "name": "stderr",
     "output_type": "stream",
     "text": [
      "100%|██████████| 312/312 [00:02<00:00, 111.08it/s]\n",
      "  1%|          | 10/1173 [00:00<00:12, 93.46it/s]"
     ]
    },
    {
     "name": "stdout",
     "output_type": "stream",
     "text": [
      "Generating tiles for zoom level 13\n"
     ]
    },
    {
     "name": "stderr",
     "output_type": "stream",
     "text": [
      "100%|██████████| 1173/1173 [00:08<00:00, 139.53it/s]\n",
      "  0%|          | 13/4545 [00:00<00:37, 121.49it/s]"
     ]
    },
    {
     "name": "stdout",
     "output_type": "stream",
     "text": [
      "Generating tiles for zoom level 14\n"
     ]
    },
    {
     "name": "stderr",
     "output_type": "stream",
     "text": [
      "100%|██████████| 4545/4545 [00:32<00:00, 137.74it/s]\n",
      "  0%|          | 13/17889 [00:00<02:18, 128.70it/s]"
     ]
    },
    {
     "name": "stdout",
     "output_type": "stream",
     "text": [
      "Generating tiles for zoom level 15\n"
     ]
    },
    {
     "name": "stderr",
     "output_type": "stream",
     "text": [
      "100%|██████████| 17889/17889 [02:00<00:00, 148.17it/s]\n"
     ]
    }
   ],
   "source": [
    "# generate tiles\n",
    "tiler.generate_tileset(tileset_path, tileset_name, max_zoom=15)"
   ]
  }
 ],
 "metadata": {
  "interpreter": {
   "hash": "5095e2792967b3d12d45eaff84bf5b2c3cbdc1a39ed4aa216ac3fe8d3a1e5107"
  },
  "kernelspec": {
   "display_name": "Python 3.7.1 64-bit ('base': conda)",
   "name": "python3"
  },
  "language_info": {
   "codemirror_mode": {
    "name": "ipython",
    "version": 3
   },
   "file_extension": ".py",
   "mimetype": "text/x-python",
   "name": "python",
   "nbconvert_exporter": "python",
   "pygments_lexer": "ipython3",
   "version": "3.7.1"
  }
 },
 "nbformat": 4,
 "nbformat_minor": 4
}
