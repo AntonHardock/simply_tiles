{
 "cells": [
  {
   "cell_type": "markdown",
   "metadata": {},
   "source": [
    "# Setup"
   ]
  },
  {
   "cell_type": "code",
   "execution_count": 1,
   "metadata": {},
   "outputs": [],
   "source": [
    "from IPython.core.interactiveshell import InteractiveShell\r\n",
    "InteractiveShell.ast_node_interactivity = \"all\"\r\n",
    "\r\n",
    "%load_ext autoreload\r\n",
    "%autoreload 2\r\n",
    "\r\n",
    "import vector_tiler as vt"
   ]
  },
  {
   "cell_type": "code",
   "execution_count": 2,
   "metadata": {},
   "outputs": [],
   "source": [
    "import json\r\n",
    "\r\n",
    "with open(\"my_docs/db_config.json\") as json_data_file:\r\n",
    "    configs = json.load(json_data_file)"
   ]
  },
  {
   "cell_type": "code",
   "execution_count": 13,
   "metadata": {},
   "outputs": [
    {
     "data": {
      "text/plain": "{'user': 'postgres',\n 'password': 'hJNlLrSe7mAzMSPOwjuY',\n 'host': 'qs-dienste.dpaorinp.de',\n 'port': '5433',\n 'database': 'fachdaten'}"
     },
     "execution_count": 13,
     "metadata": {},
     "output_type": "execute_result"
    }
   ],
   "source": [
    "configs[\"DATABASE\"]"
   ]
  },
  {
   "cell_type": "markdown",
   "metadata": {},
   "source": [
    "# Demonstrate tiling functionality for given zoom level on toy example"
   ]
  },
  {
   "cell_type": "code",
   "execution_count": 3,
   "metadata": {},
   "outputs": [
    {
     "name": "stdout",
     "output_type": "stream",
     "text": [
      "Geom has following srid:  25832\n",
      "Geom will be reprojected to:  0  for each tile requested\n",
      "grid_intersections: [-1000.  -500.     0.   500.  1000.]\n",
      "relevant grid intervals: {'x': [2, 2], 'y': [1, 2]}\n",
      "corresponding axes values: {'x': [0.0, 500.0], 'y': [500.0, -500.0]}\n"
     ]
    },
    {
     "data": {
      "image/png": "[encoded data removed]",
      "text/plain": "<Figure size 504x504 with 1 Axes>"
     },
     "metadata": {
      "needs_background": "light"
     },
     "output_type": "display_data"
    }
   ],
   "source": [
    "# create tiler object with TMS based on cartesian coordinates, ranging from -1000 to 1000\r\n",
    "config_file = \"my_docs/db_config.json\"\r\n",
    "pbf_srid = 0\r\n",
    "crs_max = 1000\r\n",
    "tiler = vt.VectorTiler(config_file, crs_max, pbf_srid)\r\n",
    "\r\n",
    "# override bbox attribute (normally derived from target geom) with a toy example\r\n",
    "tiler.bbox = {\"xmin\": 14.9, \"xmax\": 77.3, \"ymin\": -3.2, \"ymax\": 40.3} \r\n",
    "\r\n",
    "# For a given zoom level, visualize tiling results\r\n",
    "zoom_level = 2\r\n",
    "tiler.check_tiling(zoom_level)"
   ]
  },
  {
   "cell_type": "markdown",
   "metadata": {},
   "source": [
    "# Create example vector tile cache in WebMercatorQuad"
   ]
  },
  {
   "cell_type": "code",
   "execution_count": 30,
   "metadata": {},
   "outputs": [],
   "source": [
    "# input parameters\r\n",
    "tileset_name = \"Verwaltungseinheiten\"\r\n",
    "tileset_path = \"C:/_Lokale_Daten_ungesichert/vt_caches\"\r\n",
    "config_file = \"my_docs/db_config.json\"\r\n",
    "pbf_srid = 3857\r\n",
    "crs_max = 20037508.3427892 #value taken from: https://github.com/pramsey/minimal-mvt/blob/master/minimal-mvt.py"
   ]
  },
  {
   "cell_type": "code",
   "execution_count": 31,
   "metadata": {},
   "outputs": [
    {
     "name": "stdout",
     "output_type": "stream",
     "text": [
      "Geom has following srid:  25832\n",
      "Geom will be reprojected to:  3857  for each tile requested\n"
     ]
    }
   ],
   "source": [
    "# instantiate tiler object\r\n",
    "vtiler = vt.VectorTiler(config_file, crs_max, pbf_srid)"
   ]
  },
  {
   "cell_type": "code",
   "execution_count": 32,
   "metadata": {},
   "outputs": [
    {
     "name": "stdout",
     "output_type": "stream",
     "text": [
      "Generating tiles for zoom level 0\n"
     ]
    },
    {
     "name": "stderr",
     "output_type": "stream",
     "text": [
      "  0%|          | 0/1 [00:00<?, ?it/s]\n"
     ]
    },
    {
     "ename": "UndefinedFunction",
     "evalue": "FEHLER:  Funktion st_asmvtgeom(geometry, box2d) existiert nicht\nLINE 12:                 SELECT ST_AsMVTGeom(ST_Transform(t.geom, 385...\n                                ^\nHINT:  Keine Funktion stimmt mit dem angegebenen Namen und den Argumenttypen überein. Sie müssen möglicherweise ausdrückliche Typumwandlungen hinzufügen.\n",
     "output_type": "error",
     "traceback": [
      "\u001b[1;31m---------------------------------------------------------------------------\u001b[0m",
      "\u001b[1;31mUndefinedFunction\u001b[0m                         Traceback (most recent call last)",
      "\u001b[1;32m<ipython-input-32-b015ad89afa2>\u001b[0m in \u001b[0;36m<module>\u001b[1;34m\u001b[0m\n\u001b[1;32m----> 1\u001b[1;33m \u001b[0mvtiler\u001b[0m\u001b[1;33m.\u001b[0m\u001b[0mgenerate_tileset\u001b[0m\u001b[1;33m(\u001b[0m\u001b[0mtileset_path\u001b[0m\u001b[1;33m,\u001b[0m \u001b[0mtileset_name\u001b[0m\u001b[1;33m,\u001b[0m \u001b[0mzoomlevel_range\u001b[0m\u001b[1;33m=\u001b[0m\u001b[1;33m(\u001b[0m\u001b[1;36m0\u001b[0m\u001b[1;33m,\u001b[0m\u001b[1;36m8\u001b[0m\u001b[1;33m)\u001b[0m\u001b[1;33m)\u001b[0m\u001b[1;33m\u001b[0m\u001b[1;33m\u001b[0m\u001b[0m\n\u001b[0m",
      "\u001b[1;32mc:\\_Lokale_Daten_ungesichert\\simply_tiles\\vector_tiler.py\u001b[0m in \u001b[0;36mgenerate_tileset\u001b[1;34m(self, path, tileset_name, zoomlevel_range)\u001b[0m\n\u001b[0;32m    239\u001b[0m                 \u001b[0msql\u001b[0m \u001b[1;33m=\u001b[0m \u001b[0mself\u001b[0m\u001b[1;33m.\u001b[0m\u001b[0msql_envelope\u001b[0m\u001b[1;33m(\u001b[0m\u001b[0menv\u001b[0m\u001b[1;33m)\u001b[0m\u001b[1;33m\u001b[0m\u001b[1;33m\u001b[0m\u001b[0m\n\u001b[0;32m    240\u001b[0m \u001b[1;33m\u001b[0m\u001b[0m\n\u001b[1;32m--> 241\u001b[1;33m                 \u001b[0mcur\u001b[0m\u001b[1;33m.\u001b[0m\u001b[0mexecute\u001b[0m\u001b[1;33m(\u001b[0m\u001b[0msql\u001b[0m\u001b[1;33m)\u001b[0m\u001b[1;33m\u001b[0m\u001b[1;33m\u001b[0m\u001b[0m\n\u001b[0m\u001b[0;32m    242\u001b[0m                 \u001b[0mpbf\u001b[0m \u001b[1;33m=\u001b[0m \u001b[0mcur\u001b[0m\u001b[1;33m.\u001b[0m\u001b[0mfetchone\u001b[0m\u001b[1;33m(\u001b[0m\u001b[1;33m)\u001b[0m\u001b[1;33m[\u001b[0m\u001b[1;36m0\u001b[0m\u001b[1;33m]\u001b[0m\u001b[1;33m\u001b[0m\u001b[1;33m\u001b[0m\u001b[0m\n\u001b[0;32m    243\u001b[0m \u001b[1;33m\u001b[0m\u001b[0m\n",
      "\u001b[1;31mUndefinedFunction\u001b[0m: FEHLER:  Funktion st_asmvtgeom(geometry, box2d) existiert nicht\nLINE 12:                 SELECT ST_AsMVTGeom(ST_Transform(t.geom, 385...\n                                ^\nHINT:  Keine Funktion stimmt mit dem angegebenen Namen und den Argumenttypen überein. Sie müssen möglicherweise ausdrückliche Typumwandlungen hinzufügen.\n"
     ]
    }
   ],
   "source": [
    "vtiler.generate_tileset(tileset_path, tileset_name, zoomlevel_range=(0,8))"
   ]
  },
  {
   "cell_type": "markdown",
   "metadata": {},
   "source": [
    "# Further testing scenarios for bounding boxes\r\n",
    "Outdated snippet. Kept this as reminder for structuring testing scenarios,\r\n",
    "because I encountered some tiling bugs when bbox coordinates exactly intersect with grid lines of a given zoom level.\r\n",
    "So far, they are resolved, and in case similar bugs reappear, those scenarios can be used for debugging."
   ]
  },
  {
   "cell_type": "code",
   "execution_count": 7,
   "metadata": {},
   "outputs": [],
   "source": [
    "# test different bboxes of target geoms: bottom left, bottom right, top right, top left\r\n",
    "test_bboxes = [\r\n",
    "    [(4.5,-4.5), (7, -4.5), (7,4.5), (4.5,4.5)], #all values BETWEEN cutpoints of zoom level 2\r\n",
    "    [(5,-4.5), (7, -4.5), (7,4.5), (5,4.5)], #X values ON cutpoints of zoom level 2\r\n",
    "    [(4.5,-5), (7, -5), (7, 0), (4.5, 0)], #Y values ON cutpoints of zoom level 2\r\n",
    "    [(-10,-4.5), (10, -4.5), (10,4.5), (-10,4.5)], #X values span MIN and MAX cutpoints of zoom level 2    \r\n",
    "    [(4.5,-10), (7, -10), (7,10), (4.5,10)] #Y values span MIN and MAX cutpoints of zoom level 2\r\n",
    "]"
   ]
  }
 ],
 "metadata": {
  "kernelspec": {
   "display_name": "Python 3.9.5 64-bit",
   "metadata": {
    "interpreter": {
     "hash": "ac59ebe37160ed0dfa835113d9b8498d9f09ceb179beaac4002f036b9467c963"
    }
   },
   "name": "python3"
  },
  "language_info": {
   "codemirror_mode": {
    "name": "ipython",
    "version": 3
   },
   "file_extension": ".py",
   "mimetype": "text/x-python",
   "name": "python",
   "nbconvert_exporter": "python",
   "pygments_lexer": "ipython3",
   "version": "3.9.5"
  }
 },
 "nbformat": 4,
 "nbformat_minor": 4
}