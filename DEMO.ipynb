{
 "cells": [
  {
   "cell_type": "markdown",
   "source": [
    "# Setup"
   ],
   "metadata": {}
  },
  {
   "cell_type": "code",
   "execution_count": 1,
   "source": [
    "from IPython.core.interactiveshell import InteractiveShell\r\n",
    "InteractiveShell.ast_node_interactivity = \"all\"\r\n",
    "\r\n",
    "%load_ext autoreload\r\n",
    "%autoreload 2\r\n",
    "\r\n",
    "import vector_tiler as vt"
   ],
   "outputs": [],
   "metadata": {}
  },
  {
   "cell_type": "markdown",
   "source": [
    "# Demonstrate tiling functionality for given zoom level on toy example"
   ],
   "metadata": {}
  },
  {
   "cell_type": "code",
   "execution_count": 2,
   "source": [
    "# create tiler object with TMS based on cartesian coordinates, ranging from -1000 to 1000\r\n",
    "config_file = \"my_docs/db_config.json\"\r\n",
    "pbf_srid = 0\r\n",
    "crs_max = 1000\r\n",
    "tiler = vt.VectorTiler(config_file, crs_max, pbf_srid)\r\n",
    "\r\n",
    "# override bbox attribute (normally derived from target geom) with a toy example\r\n",
    "tiler.bbox = {\"xmin\": 14.9, \"xmax\": 77.3, \"ymin\": -3.2, \"ymax\": 40.3} \r\n",
    "\r\n",
    "# For a given zoom level, visualize tiling results\r\n",
    "zoom_level = 2\r\n",
    "tiler.check_tiling(zoom_level)"
   ],
   "outputs": [
    {
     "output_type": "stream",
     "name": "stdout",
     "text": [
      "Geom has following srid:  25832\n",
      "Geom will be reprojected to:  0  for each tile requested\n",
      "grid_intersections: [-1000.  -500.     0.   500.  1000.]\n",
      "relevant grid intervals: {'x': [2, 2], 'y': [1, 2]}\n",
      "corresponding axes values: {'x': [0.0, 500.0], 'y': [500.0, -500.0]}\n"
     ]
    },
    {
     "output_type": "display_data",
     "data": {
      "image/png": "[encoded data removed]",
      "text/plain": [
       "<Figure size 504x504 with 1 Axes>"
      ]
     },
     "metadata": {
      "needs_background": "light"
     }
    }
   ],
   "metadata": {}
  },
  {
   "cell_type": "markdown",
   "source": [
    "# Create example vector tile cache in WebMercatorQuad"
   ],
   "metadata": {}
  },
  {
   "cell_type": "code",
   "execution_count": 49,
   "source": [
    "# input parameters\r\n",
    "tileset_name = \"Verwaltungseinheiten_empty\"\r\n",
    "tileset_path = \"C:/Users/Notna/Desktop/test_caches\"\r\n",
    "config_file = \"my_docs/db_config.json\"\r\n",
    "pbf_srid = 3857\r\n",
    "crs_max = 20037508.3427892 #value taken from: https://github.com/pramsey/minimal-mvt/blob/master/minimal-mvt.py"
   ],
   "outputs": [],
   "metadata": {}
  },
  {
   "cell_type": "code",
   "execution_count": 51,
   "source": [
    "# instantiate tiler object\r\n",
    "vtiler = vt.VectorTiler(config_file, crs_max, pbf_srid)"
   ],
   "outputs": [
    {
     "output_type": "stream",
     "name": "stdout",
     "text": [
      "Geom has following srid:  25832\n",
      "Geom will be reprojected to:  3857  for each tile requested\n"
     ]
    }
   ],
   "metadata": {}
  },
  {
   "cell_type": "code",
   "execution_count": 52,
   "source": [
    "vtiler.bbox"
   ],
   "outputs": [
    {
     "output_type": "execute_result",
     "data": {
      "text/plain": [
       "{'xmin': 936552.072657167,\n",
       " 'xmax': 1149404.56,\n",
       " 'ymin': 7056401.11,\n",
       " 'ymax': 7163512.75}"
      ]
     },
     "metadata": {},
     "execution_count": 52
    }
   ],
   "metadata": {}
  },
  {
   "cell_type": "code",
   "execution_count": 54,
   "source": [
    "vtiler.generate_tileset(tileset_path, tileset_name, zoomlevel_range=(13,13))"
   ],
   "outputs": [
    {
     "output_type": "stream",
     "name": "stderr",
     "text": [
      "  0%|          | 0/1012 [00:00<?, ?it/s]"
     ]
    },
    {
     "output_type": "stream",
     "name": "stdout",
     "text": [
      "Generating tiles for zoom level 13\n"
     ]
    },
    {
     "output_type": "stream",
     "name": "stderr",
     "text": [
      "100%|██████████| 1012/1012 [03:17<00:00,  5.11it/s]\n"
     ]
    }
   ],
   "metadata": {}
  },
  {
   "cell_type": "markdown",
   "source": [
    "# Further testing scenarios for bounding boxes\r\n",
    "Outdated snippet. Kept this as reminder for structuring testing scenarios,\r\n",
    "because I encountered some tiling bugs when bbox coordinates exactly intersect with grid lines of a given zoom level.\r\n",
    "So far, they are resolved, and in case similar bugs reappear, those scenarios can be used for debugging."
   ],
   "metadata": {}
  },
  {
   "cell_type": "code",
   "execution_count": 7,
   "source": [
    "# test different bboxes of target geoms: bottom left, bottom right, top right, top left\r\n",
    "test_bboxes = [\r\n",
    "    [(4.5,-4.5), (7, -4.5), (7,4.5), (4.5,4.5)], #all values BETWEEN cutpoints of zoom level 2\r\n",
    "    [(5,-4.5), (7, -4.5), (7,4.5), (5,4.5)], #X values ON cutpoints of zoom level 2\r\n",
    "    [(4.5,-5), (7, -5), (7, 0), (4.5, 0)], #Y values ON cutpoints of zoom level 2\r\n",
    "    [(-10,-4.5), (10, -4.5), (10,4.5), (-10,4.5)], #X values span MIN and MAX cutpoints of zoom level 2    \r\n",
    "    [(4.5,-10), (7, -10), (7,10), (4.5,10)] #Y values span MIN and MAX cutpoints of zoom level 2\r\n",
    "]"
   ],
   "outputs": [],
   "metadata": {}
  }
 ],
 "metadata": {
  "kernelspec": {
   "name": "python3",
   "display_name": "Python 3.7.1 64-bit ('base': conda)"
  },
  "language_info": {
   "codemirror_mode": {
    "name": "ipython",
    "version": 3
   },
   "file_extension": ".py",
   "mimetype": "text/x-python",
   "name": "python",
   "nbconvert_exporter": "python",
   "pygments_lexer": "ipython3",
   "version": "3.7.1"
  },
  "interpreter": {
   "hash": "5095e2792967b3d12d45eaff84bf5b2c3cbdc1a39ed4aa216ac3fe8d3a1e5107"
  }
 },
 "nbformat": 4,
 "nbformat_minor": 4
}