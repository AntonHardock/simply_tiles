{
 "cells": [
  {
   "cell_type": "markdown",
   "metadata": {},
   "source": [
    "# Jupyter Setup"
   ]
  },
  {
   "cell_type": "code",
   "execution_count": 2,
   "metadata": {},
   "outputs": [],
   "source": [
    "from IPython.core.interactiveshell import InteractiveShell\n",
    "InteractiveShell.ast_node_interactivity = \"all\"\n",
    "\n",
    "%load_ext autoreload\n",
    "%autoreload 2"
   ]
  },
  {
   "cell_type": "markdown",
   "metadata": {},
   "source": [
    "# Setup"
   ]
  },
  {
   "cell_type": "code",
   "execution_count": 3,
   "metadata": {},
   "outputs": [],
   "source": [
    "# Import modules\n",
    "import json\n",
    "import math\n",
    "from simply_tiles.tms import TileMatrixSet"
   ]
  },
  {
   "cell_type": "markdown",
   "metadata": {},
   "source": [
    "# Die 2D Tile Matrix"
   ]
  },
  {
   "cell_type": "markdown",
   "metadata": {},
   "source": [
    "*Die folgenden Ausführungen basieren auf der [TileMatrixSet 2.0](https://docs.opengeospatial.org/DRAFTS/17-083r3.html) Spezifikation der OGC (derzeit im Draft)*\n",
    "\n",
    "Eine einzelne 2D Tile Matrix (im folgenden auch zu TM verkürzt) ist ein Gitter über eine gegebene Bounding Box. Um sie begrifflich von der Bounding Box der Geometrien abzugrenzen, die zu Vector Tiles verarbeitet werden sollen, wird sie fortan als „Extent“ bezeichnet. Laut TMS 2.0 wird das Gitter durch folgende Komponenten vollständig definiert:\n",
    "\n",
    "* `extent` - *bounding box die in ein Kachelgitter aufgeteilt werden soll*\n",
    "* `matrixWidht` und `matrixHeight` - *Zahl der Kacheln entlang X und Y, die den Extent vollständig bedecken sollen.*\n",
    "* `tileSize` - *für X und Y in CRS Einheiten. Die Kachelgrößen folgen aus der zuvor gewählten Kachelzahl*\n",
    "* `origin` - *Obere linke Ecke des Extents. Von hier aus werden die Kacheln entlang x (links nach rechts) und y (oben nach unten) gezählt als 0 basierter Index gezählt*\n",
    "\n",
    "Weiterhin gibt es auch **tile matrix limits**, mit denen angegeben wird, in welchem Bereich der Tile Indizes Geometrien vorhanden sind. Die sind sowohl für Clients als auch Server nützlich. So muss der verwendete Kachelgenerator nicht alle theoretisch möglichen Kacheln erzeugen sondern nur solche, in denen Geometrien zu sehen sind."
   ]
  },
  {
   "cell_type": "markdown",
   "metadata": {},
   "source": [
    "# Einzelne Kacheln der 2D Tile Matrix als Rasterkacheln rendern"
   ]
  },
  {
   "cell_type": "markdown",
   "metadata": {},
   "source": [
    "Um ein Raster-Cahce zu erzeugen, muss jede Kacheln einzeln gerendert werden. Dafür wird sie in Pixel unterteilt. \n",
    "So ergibt sich ein weiteres „Gitter“ über jeder einzelnen Kachel, das als **extrapolated device grid** bezeichnet wird. Mit \"device\" ist ein „visualization device“ zum Rendern gemeint. Die Gitterräume werden als **grid cells** bezeichnet (fortan als Zellen übersetzt). Höhe und Breite einer (Pixel-)Zelle ergeben sich aus folgenden Vorgaben:\n",
    "\n",
    "`tileWidth` und `tileHeight` - *Zahl der Pixel entlang X und Y. Meist identisch entlang X und Y, was die TMS Spec aber nicht vorschreibt*\n",
    "`PixelScaleDenominator` - *Verhältnis der Pixelgröße zur realen Größe in Metern*\n",
    "\n",
    "Die tatsächliche Pixelgröße eines Rendering Devices ist im Vorfeld nicht bekannt. Als Referenz nutzt die OGC daher einen quadratischen „Standardpixel“ von **0.28mm * 0.28mm** (wie schon in den WMS, SE und WMTS Spezifikationen). \n",
    "\n",
    "Was in der TMS Spec nicht direkt ersichtlich wird (zumindest für den Laien): Wozu braucht es den Standardpixel überhaupt? Würde das Rendering Device nicht ohnehin mit der tatsächlichen Pixelgröße rechnen? \n",
    "\n",
    "Des Rätsels Lösung: Der Standardpixel wird im Grunde als Näherungswert eingesetzt, um die (von Device zu Device variierende) Zellengröße einer gegebenen Tile Matrix in einen räumlichen Maßstab umzurechnen (und umgekehrt)."
   ]
  },
  {
   "cell_type": "markdown",
   "metadata": {},
   "source": [
    "# Tile Matrix Sets und ihre Maßstäbe"
   ]
  },
  {
   "cell_type": "markdown",
   "metadata": {},
   "source": [
    "Um ein Raster-Cache zu erzeugen, muss zunächst bestimmt werden, welche Maßstäbe für die gegebene Anwendung überhaupt benötigt werden. \n",
    "Pro Maßstab wird dann eine passende Tile Matrix gebildet und entsprechende Kacheldateien erzeugt. Es braucht also ein „Set“ an Kachelmatrizen: das **Tile Matrix Set**.\n",
    "\n",
    "* Jede Tile Matrix eines Sets bekommt laut TMS Spec einen „alphanumerischen Identifier“\n",
    "* Das ist im Grunde äquivalent zum Konzept „Zoomlevel“, nur das die OGC das allgemeiner fassen will. Da in beiden Fällen Integer IDs vergeben werden, ist diese Differenzierung eher nebensächlich.\n",
    "\n",
    "Übrigens: Innerhalb eines TMS kann die `tileWidth` entlang der Y-Achse variiert werden. Gängig ist z.B. der Ansatz, zu den Polen hin breitere Kacheln zu verwenden. Dafür wird das Tile Matrix Set um einen graduellen Parameter erweitert. Soweit ich die Spec richtig deute, wird das nur für Projektionen mit extremerer Verzerrung sowie in 3D Anwendungen genutzt. Für 2D Tiles in gängigen Projektionen sollte das nicht weiter relevant sein. In [T-Rex](https://t-rex.tileserver.ch/) wurde der Parameter bisher nicht implementiert. Da das Projekt als maßgebliche Referenz für diese Python-Implementierung dient, wird der Parameter auch hier nicht weiter betrachtet."
   ]
  },
  {
   "cell_type": "markdown",
   "metadata": {},
   "source": [
    "## Das TMS WebMercatorQuad und seine \"krummen\" Maßstäbe"
   ]
  },
  {
   "cell_type": "markdown",
   "metadata": {},
   "source": [
    "Wenn man sich nun das gängige TMS [WebMercatorQuad](https://docs.opengeospatial.org/DRAFTS/17-083r3.html#web-mercator-quad-tilematrixset-definition-httpwww.opengis.netdeftilematrixsetogc1.0webmercatorquad) anschaut, stellt sich die Frage: Warum die krummen Maßstäbe? "
   ]
  },
  {
   "cell_type": "code",
   "execution_count": 4,
   "metadata": {},
   "outputs": [],
   "source": [
    "# Zur Illustration die Maßstäbe für Zoomstufe 0, 1 und 2: \n",
    "scale_denominator_level0 = 559082264.0287178\n",
    "scale_denominator_level1 = 279541132.0143589\n",
    "scale_denominator_level2 = 139770566.0071794"
   ]
  },
  {
   "cell_type": "markdown",
   "metadata": {},
   "source": [
    "Warum sollte ein Anwender für die erste Zoomstufe 0 einen unintuitiven Wert wie *1 : 559082264.0287178* wählen? \n",
    "\n",
    "Der Grund hierfür ist simpel: Im Falle von WebMercatorQuad folgen die Maßstäbe aus der Kachellung, nicht umgekehrt! Die Zahlen sind schlichtweg eine logische Folge aus der Entscheidung, den gesamten Extent der Projektion EPSG:3857 in eine **Bildpyramide** aufzuteilen: [Illustration](https://external-content.duckduckgo.com/iu/?u=https%3A%2F%2Fcdn.geotribu.fr%2Fimg%2Farticles-blog-rdp%2Fdivers%2FTilePyramid.jpg&f=1&nofb=1)\n",
    "\n",
    "Im TMS 2.0 Spec ist das Konzept näher beschrieben. Im Grunde ist das die einfachste, intuitivste Weise, ein TMS zu definieren:\n",
    "* Nimm das gesamte CRS (in diesem Fall quadratisch) als Extent für alle Tile Matritzen im TMS\n",
    "* Die erste Kachel umfasst den gesamten Extent und bekommt den Zoomlevel 0.\n",
    "* Für jedes weitere Zoomlevel, teile Kachellänge und Kachelbreite durch 2 (= Verfierfachung der Kachelanzahl)\n",
    "* Benutze zum Rendern 256x256 Pixel (`tileWidth` = `tileHeight`) pro Kachel \n",
    "\n",
    "So kommt es auch, dass sich die Maßstäbe mit jeder weiteren Zoomstufe halbieren:"
   ]
  },
  {
   "cell_type": "code",
   "execution_count": 5,
   "metadata": {},
   "outputs": [
    {
     "data": {
      "text/plain": [
       "True"
      ]
     },
     "execution_count": 5,
     "metadata": {},
     "output_type": "execute_result"
    }
   ],
   "source": [
    "(scale_denominator_level0 / 2) == scale_denominator_level1"
   ]
  },
  {
   "cell_type": "markdown",
   "metadata": {},
   "source": [
    "## Zellgröße berechnen"
   ]
  },
  {
   "cell_type": "markdown",
   "metadata": {},
   "source": [
    "Ausgehend von den geschilderten Regeln lässt sich der Maßstab für Zoomstufe 0 wie folgt bestimmen.\n",
    "Zunächst brauchen wir die korrespondierende Zellengröße:"
   ]
  },
  {
   "cell_type": "code",
   "execution_count": 6,
   "metadata": {},
   "outputs": [
    {
     "data": {
      "text/plain": [
       "156543.03392804062"
      ]
     },
     "execution_count": 6,
     "metadata": {},
     "output_type": "execute_result"
    }
   ],
   "source": [
    "# Extent des EPSG 3857 (in Metern)\n",
    "extent = {\n",
    "    \"xmin\" : -20037508.3427892,\n",
    "    \"ymin\" : -20037508.3427892,\n",
    "    \"xmax\" : 20037508.3427892,\n",
    "    \"ymax\" : 20037508.3427892\n",
    "}\n",
    "\n",
    "# Länge bzw. Breite der quadratischen Kachel in CRS Einheiten bei Zoomstufe 0 (entspricht in diesem Fall dem Erdumfang)\n",
    "tileSpan = extent[\"xmax\"] - extent[\"xmin\"] \n",
    "\n",
    "# Anzahl Pixel entlang X und Y, in die die Kachel unterteilt wird\n",
    "tileHeight, tileWidth = 256, 256 \n",
    "\n",
    "# Berechnung der Zellengröße\n",
    "cellSize = tileSpan / 256 \n",
    "cellSize "
   ]
  },
  {
   "cell_type": "markdown",
   "metadata": {},
   "source": [
    "Eine Pixellänge / Pixelbreite misst also ca. `156543` Meter bei Zoomstufe 0!\n",
    "\n",
    "Die Zellengröße wird auch als „Resolution Level“ bezeichnet. Präziser bleibt jedoch der Begriff „CellSize“ aus der TMS Spec. Schließlich ist hier nicht die Auflösung im Sinne einer Bildschirm Pixelzahl gemeint. Eher eine räumliche Auflösung, wie in diesen [Esri Blogartikel](https://desktop.arcgis.com/de/arcmap/10.3/manage-data/raster-and-images/cell-size-of-raster-data.htm) beschrieben."
   ]
  },
  {
   "cell_type": "markdown",
   "metadata": {},
   "source": [
    "## Maßstab berechnen"
   ]
  },
  {
   "cell_type": "markdown",
   "metadata": {},
   "source": [
    "Die Zellengröße ist im Grunde schon ein Maßstab: Meter pro Pixel!\n",
    "Um den Maßstab auf eine beliebige Einheit (Meter, Fuß, Grad) zu generalisieren, muss die Referenzgröße eliminiert werden. Dafür brauchen wir die „physikalische“ Größe des Pixels im Bildschirm. Hier kommt der zuvor erwähnte \"Standardpixel\" ins Spiel:"
   ]
  },
  {
   "cell_type": "code",
   "execution_count": 7,
   "metadata": {},
   "outputs": [
    {
     "data": {
      "text/plain": [
       "559082264.0287166"
      ]
     },
     "execution_count": 7,
     "metadata": {},
     "output_type": "execute_result"
    }
   ],
   "source": [
    "standardPixelSize = 0.00028 # in Metern\n",
    "\n",
    "cellSize / standardPixelSize # Einheitsloser Maßstab"
   ]
  },
  {
   "cell_type": "markdown",
   "metadata": {},
   "source": [
    "Wenn das zu Grunde liegende CRS in Grad oder Fuß bemessen ist, so hätte eine cellSize die Einheit Grad/Pixel bzw. Fuß/Pixel. \n",
    "Hier muss die cellSize zunächst in Meter umgerechnet werden, bevor das Teilen durch die \"Standardpixelgröße\" die Einheit gänzlich eliminiert."
   ]
  },
  {
   "cell_type": "markdown",
   "metadata": {},
   "source": [
    "## Unstimmigkeiten bei der Rundung"
   ]
  },
  {
   "cell_type": "markdown",
   "metadata": {},
   "source": [
    "Am Rande: Die korrespondierende Angabe zur Zellengröße aus der WebMercatorQuad Tabelle im TMS 2.0 Draf weicht minimal vom obigen Beispiel ab.\n",
    "Teilt man jenen Wert durch die Standard Pixelgröße entsteht wiederum ein minimal abweichender Wert vom angegebenen Maßstab.\n",
    "Hier herrschen noch Unstimmigkeiten beim Handling von Rundungsfehlern. Auch bei T-Rex finden sich [rundungsbasierte Abweichungen](https://github.com/t-rex-tileserver/t-rex/blob/master/tile-grid/src/grid.rs)."
   ]
  },
  {
   "cell_type": "code",
   "execution_count": 8,
   "metadata": {},
   "outputs": [
    {
     "data": {
      "text/plain": [
       "559082264.0287179"
      ]
     },
     "execution_count": 8,
     "metadata": {},
     "output_type": "execute_result"
    }
   ],
   "source": [
    "cellSize_from_spec = 156543.0339280410\n",
    "cellSize_from_spec / standardPixelSize "
   ]
  },
  {
   "cell_type": "markdown",
   "metadata": {},
   "source": [
    "## Zellgrößen und Maßstäbe abseits des Äquators"
   ]
  },
  {
   "cell_type": "markdown",
   "metadata": {},
   "source": [
    "Abgesehen von der \"wahren\" Pixelgröße gibt es noch einen weiteren Aspekt, der die Herleitung von „wahren“ Maßstäben verkompliziert: Die projektionsspezifische, geometrische Verzerrung. Bei der Mercator Projektion beispielsweise wird die Verzerrung zu den Polen größer. Folglich gibt es zur Bestimmung des Maßstabs eine [Korrektur](https://docs.microsoft.com/en-us/bingmaps/articles/understanding-scale-and-resolution), bei der der Breitengrad einbezogen wird:\n",
    "\n",
    "`cellSize * cos(latitude)`\n",
    "\n",
    "Die Zellengrößen und die daraus abgeleiteten Maßstäbe aus der WebMercatorQuad Definition gelten nur für den Äquator bzw. den Breitengrad 0:"
   ]
  },
  {
   "cell_type": "code",
   "execution_count": 9,
   "metadata": {},
   "outputs": [
    {
     "data": {
      "text/plain": [
       "156543.03392804062"
      ]
     },
     "execution_count": 9,
     "metadata": {},
     "output_type": "execute_result"
    }
   ],
   "source": [
    "cellSize * math.cos(0)"
   ]
  },
  {
   "cell_type": "markdown",
   "metadata": {},
   "source": [
    "In der Tabelle zum TMS „WorldCRS84Quad“ macht die TMS 2.0 Spec sogar explizit, dass die angegebenen Zellengrößen nur am Äquator gültig sind. Prinzipiell müsste sich dieser Hinweis in jeder TMS Tabelle wiederfinden. Zudem braucht jede Projektion vermutlich eine eigene Korrekturrechnung. Für das Erzeugen von Kacheln aus Vektorgeometrien ist das jedoch nebensächlich."
   ]
  },
  {
   "cell_type": "markdown",
   "metadata": {},
   "source": [
    "## Zusammenfassung"
   ]
  },
  {
   "cell_type": "markdown",
   "metadata": {},
   "source": [
    "Startet man wie bei WebMercatorQuad mit einem \"Kachel-Algorithmus\", entsteht für jede Zoomstufe zunächst eine definierte  Kachelgröße bzw. `tileSpan`. Zusammen mit der Pixelzahl ergibt sich dann die Zellengröße und schließlich der Maßsstab:\n",
    "\n",
    "**Kachelgröße + Pixelzahl entlang X und Y --> Zellengröße <--> Maßstab**\n",
    "\n",
    "Die formalisierte TMS Definition dreht diese Logik im Grunde nur um:\n",
    "\n",
    "**Maßstab <--> Zellengröße --> Pixelzahl entlang X und Y + Kachelgröße**\n",
    "\n",
    "Da sich Zellengröße und Maßstab jeweils voneinander ableiten lassen, genügt im Grunde nur einer von beiden Parametern.\n",
    "Bei T-Rex wird ein Custom TMS beispielsweise nur mittels Zellgrößen (aka. „Resolutions“) definiert.\n",
    "Bei GeoServer kann man zwischen beiden Größen wählen.\n",
    "\n",
    "Weil die wahre Pixelgröße unbekannt ist, ist der Maßstab im TMS eine Näherung an den „wahren“ Maßstab, der sich aus dem Rendering Device ergibt. Der Rückgriff auf einen Standardpixel dient vermutlich dazu, eine Vergleichbarkeit zwischen unterschiedlichen TMS Definitionen herzustellen. Allerdings bedeutet es auch, dass Anwender mit Hilfe eines TMS keine exakten Maßstäbe vorgeben können!"
   ]
  },
  {
   "cell_type": "markdown",
   "metadata": {},
   "source": [
    "# Kachelgitter aus TMS Parametern ableiten"
   ]
  },
  {
   "cell_type": "markdown",
   "metadata": {},
   "source": [
    "Sollen Geometrien auf Kacheln verteilt werden, stellt sich zuerst die Frage: Auf welchen Kacheln wären überhaupt Geometrien zu sehen? Ausgehend von der Bounding Box muss das für jede Zoomstufe getrennt ermittelt werden. Das TMS Spec schlägt dafür Pseudocode vor (siehe Annex I). Hier eine simple Python Implementierung:"
   ]
  },
  {
   "cell_type": "markdown",
   "metadata": {},
   "source": [
    "```\n",
    "# Konstante um rundungsbasierte Abweichungen bei Dezimalzahlen\n",
    "EPSILON = 0.0000001\n",
    "\n",
    "# Auszug aus der Funktion tms.tile_limits():\n",
    "limits = {\n",
    "    \"tileMinCol\": math.floor((bbox_xmin - tile_matrix_xmin) / tilespan_x + EPSILON),\n",
    "    \"tileMaxCol\": math.floor((bbox_xmax - tile_matrix_xmin) / tilespan_x - EPSILON),\n",
    "    \"tileMinRow\": math.floor((tile_matrix_ymax - bbox_ymax) / tilespan_y + EPSILON),\n",
    "    \"tileMaxRow\": math.floor((tile_matrix_ymax - bbox_ymin) / tilespan_y - EPSILON)\n",
    "}\n",
    "```"
   ]
  },
  {
   "cell_type": "markdown",
   "metadata": {},
   "source": [
    "## Vollständige Weltkarte in WebMercatorQuad"
   ]
  },
  {
   "cell_type": "markdown",
   "metadata": {},
   "source": [
    "Als erstes laden wir alle relevanten TMS Parameter und instantiieren damit ein Objekt der Klasse `TileMatrixSet`. Diese ist mit allen wichtigen Formeln ausgestattet. Analog zu T-Rex werden die Zellengrößen (resolution level) zur TMS-Definition herangezogen. Die Herleitung von Maßsstäben (am Äquator) aus den Zellengrößen ist ebenfalls implementiert (lediglich zur Illustration)"
   ]
  },
  {
   "cell_type": "code",
   "execution_count": 10,
   "metadata": {},
   "outputs": [
    {
     "name": "stdout",
     "output_type": "stream",
     "text": [
      "156543.033928041 559082264.0287178\n",
      "78271.5169640205 279541132.0143589\n",
      "39135.75848201025 139770566.00717944\n"
     ]
    }
   ],
   "source": [
    "# TMS Definition aus einer json Datei lesen\n",
    "with open('data/WebMercatorQuad.json', mode=\"r\") as json_data_file:\n",
    "    tms_definition = json.load(json_data_file)\n",
    "\n",
    "# TileMatrixSet Objekt basierend auf WebMercatorQuad instantiieren\n",
    "tms = TileMatrixSet(**tms_definition)\n",
    "\n",
    "# Die ersten 3 Zellengrößen und die daraus abgeleiteten Maßstäbe:\n",
    "for z in [0,1,2]:\n",
    "    cell_size_z = tms.cell_sizes[z]\n",
    "    scale_z = tms.scale_denominator(z)\n",
    "    print(cell_size_z, scale_z)"
   ]
  },
  {
   "cell_type": "markdown",
   "metadata": {},
   "source": [
    "Zur Abbildung der gesamten Welt in WebMercatorQuad braucht es den gesamten EPSG:3857 `extent` als Bounding Box:"
   ]
  },
  {
   "cell_type": "code",
   "execution_count": 11,
   "metadata": {},
   "outputs": [
    {
     "data": {
      "text/plain": [
       "{'xmin': -20037508.342789248,\n",
       " 'ymin': -20037508.342789248,\n",
       " 'xmax': 20037508.342789248,\n",
       " 'ymax': 20037508.342789248}"
      ]
     },
     "execution_count": 11,
     "metadata": {},
     "output_type": "execute_result"
    }
   ],
   "source": [
    "bbox = tms.extent # als bbox wird der gesamte extent verwendet\n",
    "bbox"
   ]
  },
  {
   "cell_type": "markdown",
   "metadata": {},
   "source": [
    "Sodann werden die Werte `tile_matrix_xmin` und `tile_matrix_ymax` benötigt. Hierbei handelt es sich um den `origin` der Kachel-Koordinaten. Üblicher Weise wird die obere linke Ecke des CRS verwendet. Welche Ecke als Referenz gilt, ist prinzipiell beliebig. Bei T-Rex lässt sich z.B. auch \"bottom left\" in einer Custom TMS auswählen. Der Einfachheit halber wird in dieser Implementierung nur die obere linke Ecke angeboten. Wichtig ist nur, dass origin und die \"Referenzecke\" vom extent übereinstimmen. Aus diesem Grund muss in dieser Implementierung kein separates Koordinatenpaar angegeben werden (analog zu T-Rex). Das TMS Objekt entnimmt die Werte direkt aus dem Attribut `extent`. Trotz Redundanz müssen im XML und JSON Encoding der TMS Spec die origin Koordinaten explizit angegeben werden. "
   ]
  },
  {
   "cell_type": "code",
   "execution_count": 12,
   "metadata": {},
   "outputs": [
    {
     "data": {
      "text/plain": [
       "'top_left'"
      ]
     },
     "execution_count": 12,
     "metadata": {},
     "output_type": "execute_result"
    },
    {
     "data": {
      "text/plain": [
       "(-20037508.342789248, 20037508.342789248)"
      ]
     },
     "execution_count": 12,
     "metadata": {},
     "output_type": "execute_result"
    }
   ],
   "source": [
    "tms.origin # statt expliziter Koordinaten wird in dieser Implementierung nur der String \"top_left\" zur Explizierung des origin genutzt\n",
    "\n",
    "tile_matrix_xmin, tile_matrix_ymax = tms.extent[\"xmin\"], tms.extent[\"ymax\"]\n",
    "tile_matrix_xmin, tile_matrix_ymax"
   ]
  },
  {
   "cell_type": "markdown",
   "metadata": {},
   "source": [
    "Bleiben noch die Kacheldimensionen bei gegebener Zoomstufe: `tilespan_x` und `tilespan_y`. Wie bereits erläutert können diese aus der definierten Zellengröße und `tileWidth` bzw. `tileHeight` ermittelt werden:"
   ]
  },
  {
   "cell_type": "code",
   "execution_count": 19,
   "metadata": {},
   "outputs": [
    {
     "data": {
      "text/plain": [
       "(40075016.685578495, 40075016.685578495)"
      ]
     },
     "execution_count": 19,
     "metadata": {},
     "output_type": "execute_result"
    }
   ],
   "source": [
    "z = 0 # Beispiel Zoomstufe zur Illustration\n",
    "\n",
    "tilespan_x = tms.tile_width * tms.cell_sizes[z]\n",
    "tilespan_y = tms.tile_height * tms.cell_sizes[z]\n",
    "tilespan_x, tilespan_y"
   ]
  },
  {
   "cell_type": "markdown",
   "metadata": {},
   "source": [
    "Jetzt sind alle Zutaten vorhanden, um ausgehend von einer bounding box und einer Zoomstufe die Kachelindizes zu ermitteln, innerhalb derer Geometrien vorhanden sind:"
   ]
  },
  {
   "cell_type": "code",
   "execution_count": 14,
   "metadata": {},
   "outputs": [
    {
     "data": {
      "text/plain": [
       "{'tileMinCol': 0,\n",
       " 'tileMaxCol': 0,\n",
       " 'tileMinRow': 0,\n",
       " 'tileMaxRow': 0,\n",
       " 'matrixWidth': 1,\n",
       " 'matrixHeight': 1}"
      ]
     },
     "execution_count": 14,
     "metadata": {},
     "output_type": "execute_result"
    },
    {
     "data": {
      "text/plain": [
       "{'tileMinCol': 0,\n",
       " 'tileMaxCol': 15,\n",
       " 'tileMinRow': 0,\n",
       " 'tileMaxRow': 15,\n",
       " 'matrixWidth': 16,\n",
       " 'matrixHeight': 16}"
      ]
     },
     "execution_count": 14,
     "metadata": {},
     "output_type": "execute_result"
    },
    {
     "data": {
      "text/plain": [
       "{'tileMinCol': 0,\n",
       " 'tileMaxCol': 1023,\n",
       " 'tileMinRow': 0,\n",
       " 'tileMaxRow': 1023,\n",
       " 'matrixWidth': 1024,\n",
       " 'matrixHeight': 1024}"
      ]
     },
     "execution_count": 14,
     "metadata": {},
     "output_type": "execute_result"
    }
   ],
   "source": [
    "# Kachelindex Limits für diverse Zoomstufen (Illustration)\n",
    "for z in [0, 4, 10]:\n",
    "    tms.tile_limits(bbox, z)"
   ]
  },
  {
   "cell_type": "markdown",
   "metadata": {},
   "source": [
    "## Beliebige Bounding Box erzeugen"
   ]
  },
  {
   "cell_type": "markdown",
   "metadata": {},
   "source": [
    "Meist werden Tilecaches nur für einen Teilbereich der gesamten Weltkarte erzeugt.\n",
    "Solange die Caches ein und dasselbe TMS verwenden, lassen sie sich in GIS Clients besonders einfach übereinanderlegen:\n",
    "Bestimmte Kacheln (z.B. die Kachel mit den Indizes bzw. \"Kachekoordinaten\" x=0, y=1, z=1) verweisen immer auf identische Koordinatenbereiche.\n",
    "\n",
    "Würde ein GIS-Client eine gegebene Bounding Box in ausgewählten Zoomstufen darstellen, würde er die anzufragenden Kacheln nach gezeigtem Prinzip ermitteln. Zur Illustration:"
   ]
  },
  {
   "cell_type": "code",
   "execution_count": 15,
   "metadata": {},
   "outputs": [
    {
     "data": {
      "text/plain": [
       "{'tileMinCol': 0,\n",
       " 'tileMaxCol': 0,\n",
       " 'tileMinRow': 0,\n",
       " 'tileMaxRow': 0,\n",
       " 'matrixWidth': 1,\n",
       " 'matrixHeight': 1}"
      ]
     },
     "execution_count": 15,
     "metadata": {},
     "output_type": "execute_result"
    },
    {
     "data": {
      "text/plain": [
       "{'tileMinCol': 8,\n",
       " 'tileMaxCol': 8,\n",
       " 'tileMinRow': 7,\n",
       " 'tileMaxRow': 7,\n",
       " 'matrixWidth': 1,\n",
       " 'matrixHeight': 1}"
      ]
     },
     "execution_count": 15,
     "metadata": {},
     "output_type": "execute_result"
    },
    {
     "data": {
      "text/plain": [
       "{'tileMinCol': 513,\n",
       " 'tileMaxCol': 514,\n",
       " 'tileMinRow': 509,\n",
       " 'tileMaxRow': 510,\n",
       " 'matrixWidth': 2,\n",
       " 'matrixHeight': 2}"
      ]
     },
     "execution_count": 15,
     "metadata": {},
     "output_type": "execute_result"
    }
   ],
   "source": [
    "bbox = {\n",
    "    \"xmin\": 50000,\n",
    "    \"ymin\": 50000,\n",
    "    \"xmax\": 100000,\n",
    "    \"ymax\": 100000,  \n",
    "} # in EPSG 3857\n",
    "\n",
    "for z in [0, 4, 10]:\n",
    "    tms.tile_limits(bbox, z)"
   ]
  },
  {
   "cell_type": "markdown",
   "metadata": {},
   "source": [
    "## \"Kachelkoordinaten\" wieder in CRS Koordinaten umrechnen"
   ]
  },
  {
   "cell_type": "markdown",
   "metadata": {},
   "source": [
    "Wie bisher dargelegt, lassen sich mittels TMS und einer gegebenen Bounding Box alle Kachelindizes bestimmen, auf denen Geometrien vorhanden sind.\n",
    "Doch um entsprechende Kacheln zu erzeugen, müssen die Indizes wieder in eine Bounding Box umgerechnet werden. Nur so lassen sich Kacheln und die zu \"kachelnden\" Zielgeometrien zusammenbringen. Wie in der Einleitung erwähnt wird die Bounding Box einer Kachel als `envelope` bezeichnet. Zur Ermittlung des envelope hat die TMS Spec ebenfalls Pseudocode parat. Anbei wieder die Beispielimplementierung in Python:\n",
    "\n",
    "```\n",
    "# Auszug aus TileMatrixSet.tile_envelope():\n",
    "\n",
    "envelope = {\n",
    "            \"xmin\": tile_col * tilespan_x + tile_matrix_minx,\n",
    "            \"ymin\": tile_matrix_maxy - (tile_row + 1) * tilespan_y,\n",
    "            \"xmax\": (tile_col + 1) * tilespan_x + tile_matrix_minx,\n",
    "            \"ymax\": tile_matrix_maxy - tile_row * tilespan_y\n",
    "        }\n",
    "```\n",
    "\n",
    "Zur Illustration hier der envolpe zu einer von 4 Kacheln, die sich aus der Bounding Box des vorausgehenden Beispiels bei Zoomstufe 10 ergeben:"
   ]
  },
  {
   "cell_type": "code",
   "execution_count": 17,
   "metadata": {},
   "outputs": [
    {
     "data": {
      "text/plain": [
       "{'xmin': 39135.75848200917,\n",
       " 'ymin': 78271.51696402207,\n",
       " 'xmax': 78271.51696402207,\n",
       " 'ymax': 117407.27544603124}"
      ]
     },
     "execution_count": 17,
     "metadata": {},
     "output_type": "execute_result"
    }
   ],
   "source": [
    "z=10\n",
    "x=513\n",
    "y=509\n",
    "tms.tile_envelope(x, y, z)"
   ]
  },
  {
   "cell_type": "markdown",
   "metadata": {},
   "source": [
    "# Rechteckige Kacheln und Extents"
   ]
  },
  {
   "cell_type": "markdown",
   "metadata": {},
   "source": [
    "Der TMS Pseudocode erlaubt zwar unterschiedliche tileWidth und tileHeight Parameter, allerdings gibt es nur EINE einheitliche Zellengröße für X und Y.\n",
    "Hier nochmal die Formel zur Ableitung von Kachellänge (tile_span_y) und Kachelbreite (tile_span_x) in CRS Einheiten aus gegebenen TMS Parametern:\n",
    "\n",
    "```\n",
    "tileSpanX = tileWidth * cellSize\n",
    "tileSpanY = tileHeight * cellSize\n",
    "```\n",
    "\n",
    "*Hinweis: Analog zum TMS Spec wird hier CamelCase benutzt, während die Python Implementierung auf snake_case zur Variablenbenennung setzt*"
   ]
  },
  {
   "cell_type": "markdown",
   "metadata": {},
   "source": [
    "Bei einer fixen Pixelgröße von 0.28mm und einer fixen Zellengröße lassen sich also rechteckige Kacheln definieren, wenn `tileWidth` != `tileHeight` ausfällt.\n",
    "In den TMS Beispielen der Spec sind tileWidth und tileHeight jedoch stets identisch (vgl. Abschnitt \"Common TileMatrixSet definitions\").\n",
    "Aus der Spec geht nicht hervor, wann und warum beide Parameter voneinander abweichen sollten. Das erschließt sich wohl erst, wenn man tiefer in das Thema Rasterdaten einsteigt.\n",
    "\n",
    "Übrigens spricht nichts dagegen, einen rechteckigen Extent in quadratische Kacheln zu unterteilen. Zu einer oder mehreren Seiten des Extents würden die Kacheln dann schlicht über den Extent hinausragen. Im T-Rex Beispiel für ein Custom TMS passiert genau das. Zur Illustration wurde das Beispiel auch in die vorliegende Python Implementierung aufgenommen:"
   ]
  },
  {
   "cell_type": "code",
   "execution_count": 27,
   "metadata": {},
   "outputs": [],
   "source": [
    "with open('data/TrexCustomTMS.json', mode=\"r\") as json_data_file:\n",
    "    tms_definition = json.load(json_data_file)\n",
    "\n",
    "custom_tms = TileMatrixSet(**tms_definition)"
   ]
  },
  {
   "cell_type": "markdown",
   "metadata": {},
   "source": [
    "Zur Illustration hier die Weite und Länge des Extents (SRID=2056)"
   ]
  },
  {
   "cell_type": "code",
   "execution_count": 62,
   "metadata": {},
   "outputs": [
    {
     "name": "stdout",
     "output_type": "stream",
     "text": [
      "srid:  2056\n",
      "units:  meters\n"
     ]
    },
    {
     "data": {
      "text/plain": [
       "(480000.0, 320000.0)"
      ]
     },
     "execution_count": 62,
     "metadata": {},
     "output_type": "execute_result"
    }
   ],
   "source": [
    "print(\"srid: \", custom_tms.srid)\n",
    "print(\"units: \", custom_tms.units)\n",
    "\n",
    "custom_extent = custom_tms.extent\n",
    "extent_width = custom_extent[\"xmax\"] - custom_extent[\"xmin\"]\n",
    "extent_height = custom_extent[\"ymax\"] - custom_extent[\"ymin\"]\n",
    "extent_width, extent_height"
   ]
  },
  {
   "cell_type": "markdown",
   "metadata": {},
   "source": [
    "Wenn wir den gesamten Extent \"kacheln\" wollen, muss dieser als Bounding Box zu kachelnder Geometrien eingesetzt werden.\n",
    "Hier zunächst die relevanten Parameter, exemplarisch für Zoomstufe 0:"
   ]
  },
  {
   "cell_type": "code",
   "execution_count": 51,
   "metadata": {},
   "outputs": [
    {
     "data": {
      "text/plain": [
       "4000.0"
      ]
     },
     "execution_count": 51,
     "metadata": {},
     "output_type": "execute_result"
    },
    {
     "data": {
      "text/plain": [
       "256"
      ]
     },
     "execution_count": 51,
     "metadata": {},
     "output_type": "execute_result"
    },
    {
     "data": {
      "text/plain": [
       "256"
      ]
     },
     "execution_count": 51,
     "metadata": {},
     "output_type": "execute_result"
    }
   ],
   "source": [
    "custom_tms.cell_sizes[0]\n",
    "custom_tms.tile_width\n",
    "custom_tms.tile_height"
   ]
  },
  {
   "cell_type": "markdown",
   "metadata": {},
   "source": [
    "Die Tile limits lauten dann:"
   ]
  },
  {
   "cell_type": "code",
   "execution_count": 52,
   "metadata": {},
   "outputs": [
    {
     "data": {
      "text/plain": [
       "{'tileMinCol': 0,\n",
       " 'tileMaxCol': 0,\n",
       " 'tileMinRow': 0,\n",
       " 'tileMaxRow': 0,\n",
       " 'matrixWidth': 1,\n",
       " 'matrixHeight': 1}"
      ]
     },
     "execution_count": 52,
     "metadata": {},
     "output_type": "execute_result"
    }
   ],
   "source": [
    "custom_tms.tile_limits(custom_extent, 0)"
   ]
  },
  {
   "cell_type": "markdown",
   "metadata": {},
   "source": [
    "Und der envelope zur Kachel:"
   ]
  },
  {
   "cell_type": "code",
   "execution_count": 58,
   "metadata": {},
   "outputs": [
    {
     "data": {
      "text/plain": [
       "{'xmin': 2420000.0, 'ymin': 326000.0, 'xmax': 3444000.0, 'ymax': 1350000.0}"
      ]
     },
     "execution_count": 58,
     "metadata": {},
     "output_type": "execute_result"
    }
   ],
   "source": [
    "custom_envelope = custom_tms.tile_envelope(0,0,0)\n",
    "custom_envelope"
   ]
  },
  {
   "cell_type": "markdown",
   "metadata": {},
   "source": [
    "Wie erkennbar wird, entsteht hier eine quadratische Kachel, die deutlich über den Extent hinausragt:"
   ]
  },
  {
   "cell_type": "code",
   "execution_count": 60,
   "metadata": {},
   "outputs": [
    {
     "data": {
      "text/plain": [
       "(1024000.0, 1024000.0)"
      ]
     },
     "execution_count": 60,
     "metadata": {},
     "output_type": "execute_result"
    }
   ],
   "source": [
    "envelope_width = custom_envelope[\"xmax\"] - custom_envelope[\"xmin\"]\n",
    "envelope_height = custom_envelope[\"ymax\"] - custom_envelope[\"ymin\"]\n",
    "envelope_width, envelope_height"
   ]
  },
  {
   "cell_type": "markdown",
   "metadata": {},
   "source": [
    "# TMS bei Vector Tiles"
   ]
  },
  {
   "cell_type": "markdown",
   "metadata": {},
   "source": [
    "Alle bis hierhin geschilderten Zusammenhänge gelten zunächst für Rasterkacheln.\n",
    "Wie sich eine TMS Definition auf die Visualisierung von Vector Tiles auswirkt, lässt die TMS Spec weitgehend unkommentiert.\n",
    "Verwirrend ist in diesem Kontext vor allem die Definition von tileWidth und tileHeight als Pixelzahlen.\n",
    "Denn anders als bei Rasterkacheln wird das komprimierter Binärformat (Protobuff), in dem Vector Tiles codiert sind, erst im Client gerendert! Nur so wird das nachträgliche Umstylen von Vector Tiles überhaupt möglich! Warum sollte man also im Vorfeld ein Pixelraster für jede einzelne Kachel festlegen? \n",
    "\n",
    "Ein aufschlussreicher Hinweis zum **extrapolated device grid** im Kontext von Vektordaten fällt in einer Randnotiz: *Some tiled vector data expressed in formats such as GeoJSON do not make use of an extrapolated device grid. Other tiled formats (e.g., MBTiles) define an internal coincident grid denser than the extrapolated device grid and express the position using indices in this denser grid instead of coordinates.*\n",
    "\n",
    "Letzterer Satz bezieht sich zwar explizit auf MBTiles (abzugrenzen von Mapbox Vector Tiles). Allerdings trifft er auch auf die [Mapbox Vector Tiles Spezifikation](https://docs.mapbox.com/vector-tiles/specification/) zu. Auch hier werden geografische Koordinaten in ein \"internal coincident grid\" übertragen, was vor allem ihrer Komprimierung zu integer Werten dient. Im Grunde ist auch das eine Form von \"Rasterisierung\"! (*Bei genauerer Betrachtung sind in einer Datenbank gespeicherte Vektordaten letztlich auch Rasterdaten, da ein theoretisch kontinuierliches Koordinatensystem immer diskret wird, sobald eine Koordinate mit einer fixen Zahl an Nachkommastellen definiert wird*)\n",
    "\n",
    "Dieses Grid ist in der Tat engmaschiger als das übliche Pixelraster, das bei den üblichen Parametern tileWidth = tileHeight = 256/512 Pixel entsteht. In der Spec fällt nämlich der Wert 4096. Die Rede ist von einem \"extent\", gemeint sind jedoch 4096 * 4096 Zellen. Also das \"lokale\" Koordinatensystem einer einzelnen Vektorkachel (zumindest nach meinem Verständnis). Da der Wert nur als Beispiel herangezogen wird, ist unklar ob er ein sinnigen Referenzwert darstellt bzw. wie man überhaupt zu einem \"hinreichend engmaschigen\" Grid gelangt. Die [PostGIS Implementierung der MVT Spezifikation](https://postgis.net/docs/ST_AsMVTGeom.html) hat diesen Wert als Default übernommen, leider ebenfalls ohne nähere Erläuterung. Womöglich ist dieser Wert bereits so engmaschig, dass man sich in der Praxis nicht mehr um die räumliche Auflösung sorgen muss.\n",
    "\n",
    "Was jedoch klar wird: Die Zellengrößen, die ein TMS vorgibt, sind **UNABHÄNGIG** vom *internal coincident grid* einer einzelnen Vektorkachel.\n",
    "Das TMS beeinflusst Vector Tiles nur insofern, als dass es die Größe der Kacheln (bzw. ihren Envelope) steuert.\n",
    "* Je kleiner die im TMS definierte Zellengröße, desto mehr Kacheln fallen pro Zoomstufe an.\n",
    "* Je mehr Kacheln anfallen, desto kürzer ihre Seitenlängen: die BBOX der Kachel bzw. der Tile Envelope schrumpft!\n",
    "* Je kleiner die Kacheln, desto feiner die räumliche Auflösung. Nur, dass sich jede Kachel nicht mehr in tileWith * tileHeight unterteilt, sondern in das engmaschigere Gitter von 4096 * 4096 Zellen (sofern man den Default beibehält).\n",
    "\n",
    "**Somit haben Vector Tiles stets eine größere räumliche Auflösung (bzw. kleinere Zellengrößen) als es das TMS suggeriert**"
   ]
  },
  {
   "cell_type": "markdown",
   "metadata": {},
   "source": [
    "## Fazit"
   ]
  },
  {
   "cell_type": "markdown",
   "metadata": {},
   "source": [
    "Auch wenn das TMS Konzept im Hinblick auf Rasterdaten entstandt und in Anwendung auf Vector Tiles Verwirrung stiften kann, bleibt es eine essenzielle Standardisierung zur Erzeugung und Darstellung gekachelter Geodaten. Nur bei bekanntem TMS kann der Client die richtigen Kacheln anfragen und an der richtigen Stelle rendern. Dazu muss er den hier illustrierten Pseudocode implementieren (tile limits und tile envelope). Dasselbe gilt für Software, die ausgehend Tile-Caches basierend auf einem TMS erzeugt.\n",
    "\n",
    "Nicht alle Clients sind in dieser Hinsicht konsequent bzw. explizit. So setzt Mapbox ausschließlich auf WebMercatorQuad, setzt also einen impliziten Standard. Besondere Vorsicht ist auch bei QGis geboten: Die Berechnungen gehen hier pauschal vom TMS `GoogleCRS84Quad` aus.\n",
    "In der allgemeinen Doku wird das leider nicht erwähnt, immerhin jedoch in der Dokumentation zur [QGIS API](https://qgis.org/api/3.20/classQgsVectorTileUtils.html). Lädt man dennoch einen Tile-Cache in WebMercatorQuad, werden die Kacheln trotzdem an richtiger Stelle positioniert.\n",
    "Das funktioniert nur deshalb, weil beide TMS auf dasselbe \"Bildpyramidenprinzip\" zurückgreifen. Trotz unterschiedlicher Projektionen resultieren in diesem exaten Fall identische Maßstäbe und somit auch identische Kachedimensionen. Folglich zeigt eine Kachel mit den exemplarischen Indizes (x=0, y=1, z=1) sowohl in WebMercatorQuad als auch in GoogleCRS84Quad ein und denselben geografischen Ausschnitt!"
   ]
  }
 ],
 "metadata": {
  "interpreter": {
   "hash": "5095e2792967b3d12d45eaff84bf5b2c3cbdc1a39ed4aa216ac3fe8d3a1e5107"
  },
  "kernelspec": {
   "display_name": "Python 3",
   "language": "python",
   "name": "python3"
  },
  "language_info": {
   "codemirror_mode": {
    "name": "ipython",
    "version": 3
   },
   "file_extension": ".py",
   "mimetype": "text/x-python",
   "name": "python",
   "nbconvert_exporter": "python",
   "pygments_lexer": "ipython3",
   "version": "3.7.1"
  }
 },
 "nbformat": 4,
 "nbformat_minor": 4
}
