{
 "cells": [
  {
   "cell_type": "markdown",
   "source": [
    "# Setup"
   ],
   "metadata": {}
  },
  {
   "cell_type": "code",
   "execution_count": 1,
   "source": [
    "from IPython.core.interactiveshell import InteractiveShell\r\n",
    "InteractiveShell.ast_node_interactivity = \"all\"\r\n",
    "\r\n",
    "# activate autoreload!\r\n",
    "\r\n",
    "import vector_tiler as vt\r\n",
    "import importlib"
   ],
   "outputs": [],
   "metadata": {}
  },
  {
   "cell_type": "markdown",
   "source": [
    "# Demonstrate tiling functionality for given zoom level on toy example"
   ],
   "metadata": {}
  },
  {
   "cell_type": "code",
   "execution_count": 4,
   "source": [
    "# create tiler object with TMS based on cartesian coordinates, ranging from -1000 to 1000\r\n",
    "pbf_srid = 0\r\n",
    "crs_max = 1000\r\n",
    "tiler = vt.VectorTiler(crs_max, pbf_srid, reproject=False) #disable automatic reprojection\r\n",
    "\r\n",
    "# override bbox attribute (normally derived from target geom) with a toy example\r\n",
    "tiler.bbox = {\"xmin\": 14.9, \"xmax\": 77.3, \"ymin\": -3.2, \"ymax\": 40.3} \r\n",
    "\r\n",
    "# For a given zoom level, visualize tiling results\r\n",
    "zoom_level = 3\r\n",
    "tiler.check_tiling(zoom_level)"
   ],
   "outputs": [
    {
     "output_type": "execute_result",
     "data": {
      "text/plain": [
       "<module 'simple_tiler' from 'C:\\\\Users\\\\Notna\\\\OneDrive\\\\DS\\\\projects\\\\vanilla_tiles\\\\simple_tiler.py'>"
      ]
     },
     "metadata": {},
     "execution_count": 4
    },
    {
     "output_type": "stream",
     "name": "stdout",
     "text": [
      "grid_intersections: [-1000.  -750.  -500.  -250.     0.   250.   500.   750.  1000.]\n",
      "relevant grid intervals: {'x': [4, 4], 'y': [3, 4]}\n",
      "corresponding axes values: {'x': [0.0, 250.0], 'y': [250.0, -250.0]}\n"
     ]
    },
    {
     "output_type": "display_data",
     "data": {
      "text/plain": [
       "<Figure size 504x504 with 1 Axes>"
      ],
      "image/png": "[encoded data removed]"
     },
     "metadata": {
      "needs_background": "light"
     }
    }
   ],
   "metadata": {}
  },
  {
   "cell_type": "markdown",
   "source": [
    "# Create example vector tile cache in WebMercatorQuad"
   ],
   "metadata": {}
  },
  {
   "cell_type": "code",
   "execution_count": 20,
   "source": [
    "# input parameters\r\n",
    "tileset_name = \"Verwaltungseinheiten\"\r\n",
    "p = \"C:/Users/Notna/OneDrive/DS/projects/vanilla_tiles/\"\r\n",
    "pbf_srid = 3857\r\n",
    "crs_max = 20037508.3427892 #value taken from: https://github.com/pramsey/minimal-mvt/blob/master/minimal-mvt.py"
   ],
   "outputs": [],
   "metadata": {}
  },
  {
   "cell_type": "code",
   "execution_count": 18,
   "source": [
    "# instantiate tiler object\r\n",
    "vtiler = vt.VectorTiler(crs_max, pbf_srid)"
   ],
   "outputs": [
    {
     "output_type": "execute_result",
     "data": {
      "text/plain": [
       "<module 'simple_tiler' from 'C:\\\\Users\\\\Notna\\\\OneDrive\\\\DS\\\\projects\\\\vanilla_tiles\\\\simple_tiler.py'>"
      ]
     },
     "metadata": {},
     "execution_count": 18
    },
    {
     "output_type": "stream",
     "name": "stdout",
     "text": [
      "Geom has following srid:  25832\n",
      "A reprojected copy was created. It will be used for tiling and deleted after completion.\n"
     ]
    }
   ],
   "metadata": {}
  },
  {
   "cell_type": "code",
   "execution_count": 21,
   "source": [
    "vtiler.generate_tileset(p, tileset_name, zoomlevel_range=(0,15))"
   ],
   "outputs": [
    {
     "output_type": "stream",
     "name": "stderr",
     "text": [
      "  0%|                                                                                            | 0/1 [00:00<?, ?it/s]"
     ]
    },
    {
     "output_type": "stream",
     "name": "stdout",
     "text": [
      "Generating tiles for zoom level 0\n"
     ]
    },
    {
     "output_type": "stream",
     "name": "stderr",
     "text": [
      "100%|████████████████████████████████████████████████████████████████████████████████████| 1/1 [00:00<00:00,  2.51it/s]\n",
      "  0%|                                                                                            | 0/1 [00:00<?, ?it/s]"
     ]
    },
    {
     "output_type": "stream",
     "name": "stdout",
     "text": [
      "Generating tiles for zoom level 1\n"
     ]
    },
    {
     "output_type": "stream",
     "name": "stderr",
     "text": [
      "100%|████████████████████████████████████████████████████████████████████████████████████| 1/1 [00:00<00:00,  4.50it/s]\n",
      "  0%|                                                                                            | 0/1 [00:00<?, ?it/s]"
     ]
    },
    {
     "output_type": "stream",
     "name": "stdout",
     "text": [
      "Generating tiles for zoom level 2\n"
     ]
    },
    {
     "output_type": "stream",
     "name": "stderr",
     "text": [
      "100%|████████████████████████████████████████████████████████████████████████████████████| 1/1 [00:00<00:00,  3.55it/s]\n",
      "  0%|                                                                                            | 0/1 [00:00<?, ?it/s]"
     ]
    },
    {
     "output_type": "stream",
     "name": "stdout",
     "text": [
      "Generating tiles for zoom level 3\n"
     ]
    },
    {
     "output_type": "stream",
     "name": "stderr",
     "text": [
      "100%|████████████████████████████████████████████████████████████████████████████████████| 1/1 [00:00<00:00,  4.46it/s]\n",
      "  0%|                                                                                            | 0/1 [00:00<?, ?it/s]"
     ]
    },
    {
     "output_type": "stream",
     "name": "stdout",
     "text": [
      "Generating tiles for zoom level 4\n"
     ]
    },
    {
     "output_type": "stream",
     "name": "stderr",
     "text": [
      "100%|████████████████████████████████████████████████████████████████████████████████████| 1/1 [00:00<00:00,  3.99it/s]\n",
      "  0%|                                                                                            | 0/1 [00:00<?, ?it/s]"
     ]
    },
    {
     "output_type": "stream",
     "name": "stdout",
     "text": [
      "Generating tiles for zoom level 5\n"
     ]
    },
    {
     "output_type": "stream",
     "name": "stderr",
     "text": [
      "100%|████████████████████████████████████████████████████████████████████████████████████| 1/1 [00:00<00:00,  3.93it/s]\n",
      "  0%|                                                                                            | 0/1 [00:00<?, ?it/s]"
     ]
    },
    {
     "output_type": "stream",
     "name": "stdout",
     "text": [
      "Generating tiles for zoom level 6\n"
     ]
    },
    {
     "output_type": "stream",
     "name": "stderr",
     "text": [
      "100%|████████████████████████████████████████████████████████████████████████████████████| 1/1 [00:00<00:00,  4.31it/s]\n",
      "  0%|                                                                                            | 0/2 [00:00<?, ?it/s]"
     ]
    },
    {
     "output_type": "stream",
     "name": "stdout",
     "text": [
      "Generating tiles for zoom level 7\n"
     ]
    },
    {
     "output_type": "stream",
     "name": "stderr",
     "text": [
      "100%|████████████████████████████████████████████████████████████████████████████████████| 2/2 [00:00<00:00,  3.82it/s]\n",
      "  0%|                                                                                            | 0/3 [00:00<?, ?it/s]"
     ]
    },
    {
     "output_type": "stream",
     "name": "stdout",
     "text": [
      "Generating tiles for zoom level 8\n"
     ]
    },
    {
     "output_type": "stream",
     "name": "stderr",
     "text": [
      "100%|████████████████████████████████████████████████████████████████████████████████████| 3/3 [00:00<00:00,  3.90it/s]\n",
      "  0%|                                                                                            | 0/8 [00:00<?, ?it/s]"
     ]
    },
    {
     "output_type": "stream",
     "name": "stdout",
     "text": [
      "Generating tiles for zoom level 9\n"
     ]
    },
    {
     "output_type": "stream",
     "name": "stderr",
     "text": [
      "100%|████████████████████████████████████████████████████████████████████████████████████| 8/8 [00:01<00:00,  4.49it/s]\n",
      "  0%|                                                                                           | 0/28 [00:00<?, ?it/s]"
     ]
    },
    {
     "output_type": "stream",
     "name": "stdout",
     "text": [
      "Generating tiles for zoom level 10\n"
     ]
    },
    {
     "output_type": "stream",
     "name": "stderr",
     "text": [
      "100%|██████████████████████████████████████████████████████████████████████████████████| 28/28 [00:05<00:00,  5.18it/s]\n",
      "  0%|                                                                                           | 0/84 [00:00<?, ?it/s]"
     ]
    },
    {
     "output_type": "stream",
     "name": "stdout",
     "text": [
      "Generating tiles for zoom level 11\n"
     ]
    },
    {
     "output_type": "stream",
     "name": "stderr",
     "text": [
      "100%|██████████████████████████████████████████████████████████████████████████████████| 84/84 [00:16<00:00,  5.23it/s]\n",
      "  0%|                                                                                          | 0/276 [00:00<?, ?it/s]"
     ]
    },
    {
     "output_type": "stream",
     "name": "stdout",
     "text": [
      "Generating tiles for zoom level 12\n"
     ]
    },
    {
     "output_type": "stream",
     "name": "stderr",
     "text": [
      "100%|████████████████████████████████████████████████████████████████████████████████| 276/276 [00:48<00:00,  5.69it/s]\n",
      "  0%|                                                                                         | 0/1012 [00:00<?, ?it/s]"
     ]
    },
    {
     "output_type": "stream",
     "name": "stdout",
     "text": [
      "Generating tiles for zoom level 13\n"
     ]
    },
    {
     "output_type": "stream",
     "name": "stderr",
     "text": [
      "100%|██████████████████████████████████████████████████████████████████████████████| 1012/1012 [02:33<00:00,  6.61it/s]\n",
      "  0%|                                                                                         | 0/3960 [00:00<?, ?it/s]"
     ]
    },
    {
     "output_type": "stream",
     "name": "stdout",
     "text": [
      "Generating tiles for zoom level 14\n"
     ]
    },
    {
     "output_type": "stream",
     "name": "stderr",
     "text": [
      "100%|██████████████████████████████████████████████████████████████████████████████| 3960/3960 [10:49<00:00,  6.10it/s]\n",
      "  0%|                                                                                        | 0/15575 [00:00<?, ?it/s]"
     ]
    },
    {
     "output_type": "stream",
     "name": "stdout",
     "text": [
      "Generating tiles for zoom level 15\n"
     ]
    },
    {
     "output_type": "stream",
     "name": "stderr",
     "text": [
      "100%|████████████████████████████████████████████████████████████████████████████| 15575/15575 [38:15<00:00,  6.79it/s]\n"
     ]
    },
    {
     "output_type": "error",
     "ename": "AttributeError",
     "evalue": "'SimpleTiler' object has no attribute 'db_connection'",
     "traceback": [
      "\u001b[1;31m---------------------------------------------------------------------------\u001b[0m",
      "\u001b[1;31mAttributeError\u001b[0m                            Traceback (most recent call last)",
      "\u001b[1;32m<ipython-input-21-6a50799f554e>\u001b[0m in \u001b[0;36m<module>\u001b[1;34m\u001b[0m\n\u001b[1;32m----> 1\u001b[1;33m \u001b[0mtiler\u001b[0m\u001b[1;33m.\u001b[0m\u001b[0mgenerate_tileset\u001b[0m\u001b[1;33m(\u001b[0m\u001b[0mp\u001b[0m\u001b[1;33m,\u001b[0m \u001b[0mtileset_name\u001b[0m\u001b[1;33m,\u001b[0m \u001b[0mzoomlevel_range\u001b[0m\u001b[1;33m=\u001b[0m\u001b[1;33m(\u001b[0m\u001b[1;36m0\u001b[0m\u001b[1;33m,\u001b[0m\u001b[1;36m15\u001b[0m\u001b[1;33m)\u001b[0m\u001b[1;33m)\u001b[0m\u001b[1;33m\u001b[0m\u001b[1;33m\u001b[0m\u001b[0m\n\u001b[0m",
      "\u001b[1;32m~\\OneDrive\\DS\\projects\\vanilla_tiles\\simple_tiler.py\u001b[0m in \u001b[0;36mgenerate_tileset\u001b[1;34m(self, path, tileset_name, zoomlevel_range)\u001b[0m\n\u001b[0;32m    267\u001b[0m             \u001b[0mALTER\u001b[0m \u001b[0mTABLE\u001b[0m \u001b[1;33m{\u001b[0m\u001b[0mtable\u001b[0m\u001b[1;33m}\u001b[0m\u001b[1;33m\u001b[0m\u001b[1;33m\u001b[0m\u001b[0m\n\u001b[0;32m    268\u001b[0m                 DROP COLUMN {geom_column}_{pbf_srid}_temp;'''.format(**self.tbl)\n\u001b[1;32m--> 269\u001b[1;33m             \u001b[0mcur\u001b[0m \u001b[1;33m=\u001b[0m \u001b[0mself\u001b[0m\u001b[1;33m.\u001b[0m\u001b[0mdb_connection\u001b[0m\u001b[1;33m.\u001b[0m\u001b[0mcursor\u001b[0m\u001b[1;33m(\u001b[0m\u001b[1;33m)\u001b[0m\u001b[1;33m\u001b[0m\u001b[1;33m\u001b[0m\u001b[0m\n\u001b[0m\u001b[0;32m    270\u001b[0m             \u001b[0mcur\u001b[0m\u001b[1;33m.\u001b[0m\u001b[0mexecute\u001b[0m\u001b[1;33m(\u001b[0m\u001b[0msql\u001b[0m\u001b[1;33m)\u001b[0m\u001b[1;33m\u001b[0m\u001b[1;33m\u001b[0m\u001b[0m\n\u001b[0;32m    271\u001b[0m \u001b[1;33m\u001b[0m\u001b[0m\n",
      "\u001b[1;31mAttributeError\u001b[0m: 'SimpleTiler' object has no attribute 'db_connection'"
     ]
    }
   ],
   "metadata": {}
  },
  {
   "cell_type": "markdown",
   "source": [
    "# Further testing scenarios for bounding boxes\r\n",
    "Outdated snippet. Kept this as reminder for structuring testing scenarios,\r\n",
    "because I encountered some tiling bugs when bbox coordinates exactly intersect with grid lines of a given zoom level.\r\n",
    "So far, they are resolved, and in case similar bugs reappear, those scenarios can be used for debugging."
   ],
   "metadata": {}
  },
  {
   "cell_type": "code",
   "execution_count": 7,
   "source": [
    "# test different bboxes of target geoms: bottom left, bottom right, top right, top left\r\n",
    "test_bboxes = [\r\n",
    "    [(4.5,-4.5), (7, -4.5), (7,4.5), (4.5,4.5)], #all values BETWEEN cutpoints of zoom level 2\r\n",
    "    [(5,-4.5), (7, -4.5), (7,4.5), (5,4.5)], #X values ON cutpoints of zoom level 2\r\n",
    "    [(4.5,-5), (7, -5), (7, 0), (4.5, 0)], #Y values ON cutpoints of zoom level 2\r\n",
    "    [(-10,-4.5), (10, -4.5), (10,4.5), (-10,4.5)], #X values span MIN and MAX cutpoints of zoom level 2    \r\n",
    "    [(4.5,-10), (7, -10), (7,10), (4.5,10)] #Y values span MIN and MAX cutpoints of zoom level 2\r\n",
    "]"
   ],
   "outputs": [],
   "metadata": {}
  }
 ],
 "metadata": {
  "kernelspec": {
   "display_name": "Python 3.7.1 64-bit ('base': conda)",
   "language": "python",
   "name": "python37164bitbaseconda78b3c0ac33df4e1eb5748562f3ba13b7"
  },
  "language_info": {
   "codemirror_mode": {
    "name": "ipython",
    "version": 3
   },
   "file_extension": ".py",
   "mimetype": "text/x-python",
   "name": "python",
   "nbconvert_exporter": "python",
   "pygments_lexer": "ipython3",
   "version": "3.7.1"
  }
 },
 "nbformat": 4,
 "nbformat_minor": 4
}